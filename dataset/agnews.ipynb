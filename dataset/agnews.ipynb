{
 "cells": [
  {
   "cell_type": "code",
   "execution_count": 1,
   "id": "2bf2dd6d-49c8-4492-8cd4-e0be8bd6f966",
   "metadata": {
    "tags": []
   },
   "outputs": [
    {
     "name": "stdout",
     "output_type": "stream",
     "text": [
      "pip 24.0 from /work/LAS/jannesar-lab/.ondemand/dphuong/jupyter-envs/20230427/lib/python3.10/site-packages/pip (python 3.10)\n"
     ]
    }
   ],
   "source": [
    "!pip --version"
   ]
  },
  {
   "cell_type": "code",
   "execution_count": null,
   "id": "3f2dd8a9-d36a-4162-aef9-b2455f77a612",
   "metadata": {},
   "outputs": [],
   "source": []
  },
  {
   "cell_type": "code",
   "execution_count": 1,
   "id": "9ab99473-8136-4429-aa6f-74b45063c3ec",
   "metadata": {
    "tags": []
   },
   "outputs": [],
   "source": [
    "import numpy as np\n",
    "import os\n",
    "import sys\n",
    "import random\n",
    "import torch\n",
    "from datasets import load_dataset\n",
    "import torchvision.transforms as transforms"
   ]
  },
  {
   "cell_type": "code",
   "execution_count": 2,
   "id": "865d330a-6c72-4721-8c5d-18a6c509aa99",
   "metadata": {
    "tags": []
   },
   "outputs": [
    {
     "name": "stdout",
     "output_type": "stream",
     "text": [
      "__TORCH Version: 2.0.0+cu118\n",
      "__CUDNN Version: 8700\n",
      "__CUDA version:  11.8\n",
      "__Number CUDA Devices: 1\n",
      "__CUDA Device Name: NVIDIA A100-SXM4-80GB\n",
      "__CUDA Device Total Memory [GB]: 85.039775744\n"
     ]
    }
   ],
   "source": [
    "print('__TORCH Version:', torch.__version__)\n",
    "print('__CUDNN Version:', torch.backends.cudnn.version())\n",
    "print(\"__CUDA version: \", torch.version.cuda)\n",
    "print('__Number CUDA Devices:', torch.cuda.device_count())\n",
    "print('__CUDA Device Name:', torch.cuda.get_device_name(0))\n",
    "print('__CUDA Device Total Memory [GB]:', torch.cuda.get_device_properties(0).total_memory/1e9)"
   ]
  },
  {
   "cell_type": "code",
   "execution_count": 3,
   "id": "2d2e1f1e-f511-4f1a-bb0f-4da7c07801fe",
   "metadata": {
    "tags": []
   },
   "outputs": [],
   "source": [
    "agnews_train = load_dataset(\"fancyzhx/ag_news\", split=\"train\")\n",
    "agnews_test = load_dataset(\"fancyzhx/ag_news\", split=\"test\")"
   ]
  },
  {
   "cell_type": "code",
   "execution_count": 4,
   "id": "9f107fff-d02d-45a5-9489-f884db224d8a",
   "metadata": {
    "tags": []
   },
   "outputs": [
    {
     "data": {
      "text/plain": [
       "Dataset({\n",
       "    features: ['text', 'label'],\n",
       "    num_rows: 120000\n",
       "})"
      ]
     },
     "execution_count": 4,
     "metadata": {},
     "output_type": "execute_result"
    }
   ],
   "source": [
    "agnews_train"
   ]
  },
  {
   "cell_type": "code",
   "execution_count": 7,
   "id": "a685226f-4e43-4943-9319-25799d2a76ba",
   "metadata": {
    "tags": []
   },
   "outputs": [
    {
     "data": {
      "text/plain": [
       "{'text': 'Carlyle Looks Toward Commercial Aerospace (Reuters) Reuters - Private investment firm Carlyle Group,\\\\which has a reputation for making well-timed and occasionally\\\\controversial plays in the defense industry, has quietly placed\\\\its bets on another part of the market.',\n",
       " 'label': 2}"
      ]
     },
     "execution_count": 7,
     "metadata": {},
     "output_type": "execute_result"
    }
   ],
   "source": [
    "agnews_train[1]"
   ]
  },
  {
   "cell_type": "code",
   "execution_count": 8,
   "id": "2d722252-c00e-4e49-a51e-d3e57d340c19",
   "metadata": {
    "tags": []
   },
   "outputs": [
    {
     "data": {
      "text/plain": [
       "{'text': [\"Wall St. Bears Claw Back Into the Black (Reuters) Reuters - Short-sellers, Wall Street's dwindling\\\\band of ultra-cynics, are seeing green again.\",\n",
       "  'Carlyle Looks Toward Commercial Aerospace (Reuters) Reuters - Private investment firm Carlyle Group,\\\\which has a reputation for making well-timed and occasionally\\\\controversial plays in the defense industry, has quietly placed\\\\its bets on another part of the market.'],\n",
       " 'label': [2, 2]}"
      ]
     },
     "execution_count": 8,
     "metadata": {},
     "output_type": "execute_result"
    }
   ],
   "source": [
    "agnews_train[:2]"
   ]
  },
  {
   "cell_type": "code",
   "execution_count": 9,
   "id": "803ccc04-89d6-484c-a534-92e9afd994a0",
   "metadata": {},
   "outputs": [],
   "source": [
    "# squad_v2_train = load_dataset(\"rajpurkar/squad_v2\", split=\"train\")\n",
    "# squad_v2_test = load_dataset(\"rajpurkar/squad_v2\", split=\"validation\")"
   ]
  },
  {
   "cell_type": "code",
   "execution_count": 10,
   "id": "37deed32-d989-462e-8052-f42ce0c9688f",
   "metadata": {
    "tags": []
   },
   "outputs": [],
   "source": [
    "# squad_v2_train[1]"
   ]
  },
  {
   "cell_type": "code",
   "execution_count": 11,
   "id": "0622db45-013b-45b8-b17b-cab09afea6e7",
   "metadata": {
    "tags": []
   },
   "outputs": [],
   "source": [
    "# squad_v2_test[:2]"
   ]
  },
  {
   "cell_type": "code",
   "execution_count": 16,
   "id": "9223476d-83fb-4781-b199-8e844ad26453",
   "metadata": {},
   "outputs": [],
   "source": [
    "trainlabel, traintext = list(zip(*[(example['label'], example['text']) for example in agnews_train]))\n",
    "testlabel, testtext = list(zip(*[(example['label'], example['text']) for example in agnews_test]))"
   ]
  },
  {
   "cell_type": "code",
   "execution_count": null,
   "id": "ddb8354b-023b-4673-9b87-815c5cc694dd",
   "metadata": {
    "tags": []
   },
   "outputs": [],
   "source": [
    "trainlabel"
   ]
  },
  {
   "cell_type": "code",
   "execution_count": 17,
   "id": "09e4dfe7-1a92-4b5e-9b9b-af86625625e7",
   "metadata": {},
   "outputs": [],
   "source": [
    "dataset_text = []\n",
    "dataset_label = []"
   ]
  },
  {
   "cell_type": "code",
   "execution_count": 18,
   "id": "343fc4c7-114e-41f5-b4ea-cd7a6bf7cb4e",
   "metadata": {
    "tags": []
   },
   "outputs": [],
   "source": [
    "dataset_text.extend(traintext)\n",
    "dataset_text.extend(testtext)\n",
    "dataset_label.extend(trainlabel)\n",
    "dataset_label.extend(testlabel)"
   ]
  },
  {
   "cell_type": "code",
   "execution_count": 19,
   "id": "05edad9e-75ae-42b2-8997-fe9fbcbb367f",
   "metadata": {
    "tags": []
   },
   "outputs": [
    {
     "name": "stdout",
     "output_type": "stream",
     "text": [
      "Number of classes: 4\n"
     ]
    }
   ],
   "source": [
    "num_classes = len(set(dataset_label))\n",
    "print(f'Number of classes: {num_classes}')"
   ]
  },
  {
   "cell_type": "code",
   "execution_count": null,
   "id": "4e87a7b4-2ea6-4c07-9ae4-1ae016bbfd1f",
   "metadata": {},
   "outputs": [],
   "source": []
  }
 ],
 "metadata": {
  "kernelspec": {
   "display_name": "Python 3 (ipykernel)",
   "language": "python",
   "name": "python3"
  },
  "language_info": {
   "codemirror_mode": {
    "name": "ipython",
    "version": 3
   },
   "file_extension": ".py",
   "mimetype": "text/x-python",
   "name": "python",
   "nbconvert_exporter": "python",
   "pygments_lexer": "ipython3",
   "version": "3.10.11"
  }
 },
 "nbformat": 4,
 "nbformat_minor": 5
}
